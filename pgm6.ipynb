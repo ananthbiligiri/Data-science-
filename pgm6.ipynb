{
 "cells": [
  {
   "cell_type": "code",
   "execution_count": null,
   "id": "84fd8268-2bb2-4e43-afd0-899937ef634d",
   "metadata": {},
   "outputs": [],
   "source": [
    "import numpy as np\n",
    "from sklearn.datasets import load_iris\n",
    "import matplotlib.pyplot as plt\n",
    "\n",
    "# Load the Iris dataset\n",
    "X = load_iris().data\n",
    "\n",
    "# MapReduce-like functions to compute min, max, and mean\n",
    "def reduce(data):\n",
    "    return {feature: {'min': np.min(data[:, i]), 'max': np.max(data[:, i]), 'mean': np.mean(data[:, i])} \n",
    "            for i, feature in enumerate(['sepal_length', 'sepal_width', 'petal_length', 'petal_width'])}\n",
    "\n",
    "# Compute statistics\n",
    "stats = reduce(X)\n",
    "\n",
    "# Print results\n",
    "for feature, values in stats.items():\n",
    "    print(f\"{feature}: Min={values['min']}, Max={values['max']}, Mean={values['mean']}\")\n",
    "\n",
    "# Visualize the relationships\n",
    "fig, axes = plt.subplots(1, 2, figsize=(12, 5))\n",
    "axes[0].scatter(X[:, 0], X[:, 1], c='blue')\n",
    "axes[0].set(title=\"Sepal Length vs Sepal Width\", xlabel=\"Sepal Length\", ylabel=\"Sepal Width\")\n",
    "axes[1].scatter(X[:, 2], X[:, 3], c='red')\n",
    "axes[1].set(title=\"Petal Length vs Petal Width\", xlabel=\"Petal Length\", ylabel=\"Petal Width\")\n",
    "for ax in axes: ax.grid(True)\n",
    "plt.show()\n"
   ]
  }
 ],
 "metadata": {
  "kernelspec": {
   "display_name": "Python 3 (ipykernel)",
   "language": "python",
   "name": "python3"
  },
  "language_info": {
   "codemirror_mode": {
    "name": "ipython",
    "version": 3
   },
   "file_extension": ".py",
   "mimetype": "text/x-python",
   "name": "python",
   "nbconvert_exporter": "python",
   "pygments_lexer": "ipython3",
   "version": "3.12.4"
  }
 },
 "nbformat": 4,
 "nbformat_minor": 5
}
