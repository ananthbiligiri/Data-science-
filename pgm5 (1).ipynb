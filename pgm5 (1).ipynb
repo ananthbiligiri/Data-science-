{
 "cells": [
  {
   "cell_type": "code",
   "execution_count": 23,
   "id": "edd0ebf7-4716-47d7-9156-4cdd4e7611c9",
   "metadata": {},
   "outputs": [
    {
     "name": "stdout",
     "output_type": "stream",
     "text": [
      "The word 'a' appears 90 times.\n"
     ]
    }
   ],
   "source": [
    "import re\n",
    "\n",
    "def mapper(chunk, target_word):\n",
    "    return re.findall(r\"[a-zA-Z']+\", ' '.join(chunk).lower()).count(target_word.lower())\n",
    "\n",
    "def reducer(counts):\n",
    "    return sum(counts)\n",
    "\n",
    "def mapreduce_word_frequency(file_path, target_word):\n",
    "    with open(file_path, 'r') as file:\n",
    "        lines = file.readlines()\n",
    "    chunks = [lines[i:i + 10] for i in range(0, len(lines), 10)]\n",
    "    return reducer([mapper(chunk, target_word) for chunk in chunks])\n",
    "\n",
    "file_path = 'sample.txt'\n",
    "target_word = 'a'\n",
    "print(f\"The word '{target_word}' appears {mapreduce_word_frequency(file_path, target_word)} times.\")\n"
   ]
  }
 ],
 "metadata": {
  "kernelspec": {
   "display_name": "Python 3 (ipykernel)",
   "language": "python",
   "name": "python3"
  },
  "language_info": {
   "codemirror_mode": {
    "name": "ipython",
    "version": 3
   },
   "file_extension": ".py",
   "mimetype": "text/x-python",
   "name": "python",
   "nbconvert_exporter": "python",
   "pygments_lexer": "ipython3",
   "version": "3.12.4"
  }
 },
 "nbformat": 4,
 "nbformat_minor": 5
}
