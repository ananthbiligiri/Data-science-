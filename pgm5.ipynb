{
 "cells": [
  {
   "cell_type": "code",
   "execution_count": 12,
   "id": "edd0ebf7-4716-47d7-9156-4cdd4e7611c9",
   "metadata": {},
   "outputs": [
    {
     "name": "stdout",
     "output_type": "stream",
     "text": [
      "The word 'morning' appears 3 times.\n"
     ]
    }
   ],
   "source": [
    "import re\n",
    "\n",
    "def mapper(lines, target_word):\n",
    "    # Ensure the target word is in lowercase for case-insensitive comparison\n",
    "    target_word = target_word.lower()\n",
    "    count = 0\n",
    "    for line in lines:\n",
    "        # Extract words using regex and convert them to lowercase\n",
    "        words = re.findall(r\"[a-zA-Z']+\", line.lower())\n",
    "        count += words.count(target_word)\n",
    "    return count\n",
    "\n",
    "def reducer(counts):\n",
    "    # Sum up all counts\n",
    "    return sum(counts)\n",
    "\n",
    "def word_frequency_count(file_path, target_word):\n",
    "    with open(file_path, 'r') as file:\n",
    "        # Read all lines from the file\n",
    "        lines = file.readlines()\n",
    "\n",
    "    # Define chunk size for splitting lines into smaller parts\n",
    "    chunk_size = 10\n",
    "    chunks = [lines[i:i + chunk_size] for i in range(0, len(lines), chunk_size)]\n",
    "\n",
    "    # Map phase: Process each chunk using the mapper function\n",
    "    counts = [mapper(chunk, target_word) for chunk in chunks]\n",
    "\n",
    "    # Reduce phase: Aggregate the results from all chunks\n",
    "    total_count = reducer(counts)\n",
    "    return total_count\n",
    "\n",
    "# Define the file path and the target word\n",
    "file_path = 'sample.txt'\n",
    "target_word = 'morning'\n",
    "\n",
    "# Compute the frequency of the target word\n",
    "frequency = word_frequency_count(file_path, target_word)\n",
    "print(f\"The word '{target_word}' appears {frequency} times.\")\n"
   ]
  },
  {
   "cell_type": "code",
   "execution_count": null,
   "id": "6a85c46f-bd0d-49a8-8277-5e270f60b721",
   "metadata": {},
   "outputs": [],
   "source": []
  }
 ],
 "metadata": {
  "kernelspec": {
   "display_name": "Python 3 (ipykernel)",
   "language": "python",
   "name": "python3"
  },
  "language_info": {
   "codemirror_mode": {
    "name": "ipython",
    "version": 3
   },
   "file_extension": ".py",
   "mimetype": "text/x-python",
   "name": "python",
   "nbconvert_exporter": "python",
   "pygments_lexer": "ipython3",
   "version": "3.12.4"
  }
 },
 "nbformat": 4,
 "nbformat_minor": 5
}
